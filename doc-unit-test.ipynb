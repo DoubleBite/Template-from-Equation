{
 "cells": [
  {
   "cell_type": "code",
   "execution_count": 1,
   "metadata": {},
   "outputs": [],
   "source": [
    "import doctest\n",
    "import unittest\n",
    "from unittest.mock import patch\n",
    "import io\n",
    "from template_from_equation import Equation"
   ]
  },
  {
   "cell_type": "code",
   "execution_count": 2,
   "metadata": {},
   "outputs": [
    {
     "name": "stdout",
     "output_type": "stream",
     "text": [
      "Finding tests in NoName\n",
      "Trying:\n",
      "    eq1 = Equation(\"2+5\")\n",
      "Expecting nothing\n",
      "ok\n",
      "Trying:\n",
      "    eq1\n",
      "Expecting:\n",
      "    2 + 5\n",
      "ok\n",
      "Trying:\n",
      "    eq1.get_template()\n",
      "Expecting:\n",
      "    'n0 + n1'\n",
      "ok\n",
      "Trying:\n",
      "    eq2 = Equation(\"2+7*60 = x\")\n",
      "Expecting nothing\n",
      "ok\n",
      "Trying:\n",
      "    eq2\n",
      "Expecting:\n",
      "    2 + 7 * 60 = x\n",
      "ok\n",
      "Trying:\n",
      "    eq2.get_template()\n",
      "Expecting:\n",
      "    'n0 + n1 * n2 = x0'\n",
      "ok\n",
      "Trying:\n",
      "    eq2.get_template(num_slot=[2,7])\n",
      "Expecting:\n",
      "    'n0 + n1 * 60 = x0'\n",
      "ok\n",
      "Trying:\n",
      "    eq3 = Equation(\"2*x+5*12 = y\")\n",
      "Expecting nothing\n",
      "ok\n",
      "Trying:\n",
      "    eq3.get_template()\n",
      "Expecting:\n",
      "    'n0 * x0 + n1 * n2 = x1'\n",
      "ok\n",
      "Trying:\n",
      "    eq3.get_template(num_slot=[2,5])\n",
      "Expecting:\n",
      "    'n0 * x0 + n1 * 12 = x1'\n",
      "ok\n",
      "Trying:\n",
      "    eq3 = Equation(\"2*x+5*12 = y\")\n",
      "Expecting nothing\n",
      "ok\n",
      "Trying:\n",
      "    eq4 = Equation(\"2^x+5^12 = y\")\n",
      "Expecting nothing\n",
      "ok\n",
      "Trying:\n",
      "    eq4.get_template()\n",
      "Expecting:\n",
      "    'n0 ^ x0 + n1 ^ n2 = x1'\n",
      "ok\n"
     ]
    }
   ],
   "source": [
    "doctest.run_docstring_examples(Equation, globals(), verbose=True)"
   ]
  },
  {
   "cell_type": "code",
   "execution_count": 3,
   "metadata": {},
   "outputs": [],
   "source": [
    "class TemplateFromEquationTest(unittest.TestCase):\n",
    "    def test_get_template(self):\n",
    "        self.assertEqual(str(Equation(\"1+2\")), \"1 + 2\")\n",
    "        self.assertEqual(str(Equation(\"1+2*3+4-5/6\")), \"1 + 2 * 3 + 4 - 5 / 6\")\n",
    "        self.assertEqual(str(Equation(\"x*5/1-2*y*z\")), \"x * 5 / 1 - 2 * y * z\")\n",
    "        self.assertEqual(Equation(\"1+2\").get_template(), \"n0 + n1\")\n",
    "        self.assertEqual(Equation(\"x*5+2*y/z-44\").get_template(), \"x0 * n0 + n1 * x1 / x2 - n2\")\n",
    "        self.assertEqual(Equation(\"x*x*x*x\").get_template(), \"x0 * x1 * x2 * x3\")\n",
    "        self.assertEqual(Equation(\"1+2*60+x*100\").get_template(num_slot=[1,2]), \"n0 + n1 * 60 + x0 * 100\")\n",
    "        self.assertEqual(Equation(\"x*5+2*y/z-44\").get_template(num_slot=[44]), \"x0 * 5 + 2 * x1 / x2 - n0\")\n",
    "        self.assertEqual(Equation(\"x*x*x*x\").get_template(num_slot=[44]), \"x0 * x1 * x2 * x3\")\n",
    "        self.assertRaises(ValueError, to_num, 'as12-')"
   ]
  },
  {
   "cell_type": "code",
   "execution_count": 4,
   "metadata": {},
   "outputs": [
    {
     "name": "stderr",
     "output_type": "stream",
     "text": [
      "test_get_template (__main__.TemplateFromEquationTest) ... ERROR\n",
      "\n",
      "======================================================================\n",
      "ERROR: test_get_template (__main__.TemplateFromEquationTest)\n",
      "----------------------------------------------------------------------\n",
      "Traceback (most recent call last):\n",
      "  File \"<ipython-input-3-3b96fd7d7e9b>\", line 12, in test_get_template\n",
      "    self.assertRaises(ValueError, to_num, 'as12-')\n",
      "NameError: name 'to_num' is not defined\n",
      "\n",
      "----------------------------------------------------------------------\n",
      "Ran 1 test in 0.002s\n",
      "\n",
      "FAILED (errors=1)\n"
     ]
    },
    {
     "data": {
      "text/plain": [
       "<unittest.main.TestProgram at 0x7fe8244ed208>"
      ]
     },
     "execution_count": 4,
     "metadata": {},
     "output_type": "execute_result"
    }
   ],
   "source": [
    "unittest.main(argv=[''], verbosity=2, exit=False)"
   ]
  },
  {
   "cell_type": "code",
   "execution_count": 77,
   "metadata": {},
   "outputs": [
    {
     "data": {
      "text/plain": [
       "''"
      ]
     },
     "execution_count": 77,
     "metadata": {},
     "output_type": "execute_result"
    }
   ],
   "source": [
    ", "
   ]
  },
  {
   "cell_type": "code",
   "execution_count": null,
   "metadata": {},
   "outputs": [],
   "source": []
  }
 ],
 "metadata": {
  "kernelspec": {
   "display_name": "NLU",
   "language": "python",
   "name": "nlu"
  },
  "language_info": {
   "codemirror_mode": {
    "name": "ipython",
    "version": 3
   },
   "file_extension": ".py",
   "mimetype": "text/x-python",
   "name": "python",
   "nbconvert_exporter": "python",
   "pygments_lexer": "ipython3",
   "version": "3.7.3"
  }
 },
 "nbformat": 4,
 "nbformat_minor": 2
}
